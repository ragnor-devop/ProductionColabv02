{
  "nbformat": 4,
  "nbformat_minor": 0,
  "metadata": {
    "colab": {
      "name": "Untitled0.ipynb",
      "provenance": [],
      "collapsed_sections": [],
      "mount_file_id": "1ukf4E5bPop3hCMhnLme6-6DSBavZIJEL",
      "authorship_tag": "ABX9TyPn46/kC2ijs6IsZ+3Xjfc4",
      "include_colab_link": true
    },
    "kernelspec": {
      "name": "python3",
      "display_name": "Python 3"
    },
    "language_info": {
      "name": "python"
    }
  },
  "cells": [
    {
      "cell_type": "markdown",
      "metadata": {
        "id": "view-in-github",
        "colab_type": "text"
      },
      "source": [
        "<a href=\"https://colab.research.google.com/github/ragnor-devop/ProductionColabv02/blob/main/Widgets02.ipynb\" target=\"_parent\"><img src=\"https://colab.research.google.com/assets/colab-badge.svg\" alt=\"Open In Colab\"/></a>"
      ]
    },
    {
      "cell_type": "code",
      "metadata": {
        "id": "Wd4tGnRU6SJz"
      },
      "source": [
        "# pip install widgetsnbextension\n"
      ],
      "execution_count": 10,
      "outputs": []
    },
    {
      "cell_type": "code",
      "metadata": {
        "id": "zdeyG42Tovco"
      },
      "source": [
        "#Librerias para manipulacion de datos\n",
        "import numpy as np\n",
        "import pandas as pd\n",
        "import matplotlib.pyplot as plt\n",
        "import seaborn as sns\n",
        "%matplotlib inline\n",
        "plt.style.use(\"dark_background\")\n",
        "#Librerias para metricas\n",
        "from sklearn.metrics import accuracy_score, confusion_matrix,f1_score\n",
        "import time\n",
        "#Librerras para Preprocesado y holdout\n",
        "from sklearn.compose import ColumnTransformer\n",
        "from sklearn.preprocessing import OneHotEncoder, StandardScaler\n",
        "from sklearn.model_selection import train_test_split, cross_val_score\n",
        "#Librerias de los modelos a utilizar\n",
        "# from sklearn.neighbors import KNeighborsClassifier\n",
        "from sklearn.linear_model import LogisticRegression\n",
        "from sklearn.ensemble import  RandomForestClassifier\n",
        "from sklearn.svm import SVC\n",
        "\n",
        "import warnings \n",
        "warnings.filterwarnings('ignore')\n",
        "\n",
        "import ipywidgets as widgets\n",
        "from IPython.display import display, clear_output"
      ],
      "execution_count": 11,
      "outputs": []
    },
    {
      "cell_type": "code",
      "metadata": {
        "id": "MK38TNJGvPDK"
      },
      "source": [
        "X_train=pd.read_csv(\"https://raw.githubusercontent.com/ragnor-devop/CreditosDataset01/main/DataSets/PruebaBorrar/Xtrain.csv\")\n",
        "y_train=pd.read_csv(\"https://raw.githubusercontent.com/ragnor-devop/CreditosDataset01/main/DataSets/PruebaBorrar/ytrain.csv\")\n",
        "X_test=pd.read_csv(\"https://raw.githubusercontent.com/ragnor-devop/CreditosDataset01/main/DataSets/PruebaBorrar/Xtest.csv\")\n",
        "y_test=pd.read_csv(\"https://raw.githubusercontent.com/ragnor-devop/CreditosDataset01/main/DataSets/PruebaBorrar/ytest.csv\")"
      ],
      "execution_count": 12,
      "outputs": []
    },
    {
      "cell_type": "code",
      "metadata": {
        "id": "aXrqD76t6p93",
        "colab": {
          "base_uri": "https://localhost:8080/"
        },
        "outputId": "580a091d-7306-47d1-a281-dda98f1b67fb"
      },
      "source": [
        "#Entrenamiento del modelo Logistic Regression\n",
        "logistic_regresion = LogisticRegression(max_iter=10000)\n",
        "lr_entrenamiento_tiempo_inicio= time.time()\n",
        "logistic_regresion.fit(X_train, y_train)\n",
        "lr_entrenamiento_tiempo_fin = time.time()\n",
        "logistic_regression_tiempo_entrenamiento = lr_entrenamiento_tiempo_fin - lr_entrenamiento_tiempo_inicio # in seconds\n",
        "# prediccion Logistic Regression\n",
        "lr_predict_tiempo_inicio= time.time()\n",
        "y_pred_regression = logistic_regresion.predict(X_test)\n",
        "lr_predict_tiempo_fin = time.time()\n",
        "logistic_regression_tiempo_prediccion = lr_predict_tiempo_fin - lr_predict_tiempo_inicio # in seconds\n",
        "#Metricas Accuracy Score Logistic Regression\n",
        "accuracy_logistic_regression = accuracy_score(y_test, y_pred_regression)\n",
        "accuracy_logistic_regression"
      ],
      "execution_count": 13,
      "outputs": [
        {
          "output_type": "execute_result",
          "data": {
            "text/plain": [
              "0.7819979188345474"
            ]
          },
          "metadata": {
            "tags": []
          },
          "execution_count": 13
        }
      ]
    },
    {
      "cell_type": "code",
      "metadata": {
        "id": "a6oXK1mF-hYV"
      },
      "source": [
        "# !jupyter nbextension enable --py widgetsnbextension --sys-prefix\n",
        "# !jupyter serverextension enable voila --sys-prefix"
      ],
      "execution_count": 14,
      "outputs": []
    },
    {
      "cell_type": "code",
      "metadata": {
        "id": "A0hTzNCT7SQh"
      },
      "source": [
        "# Image Widget\n",
        "\n",
        "file = open(\"Images/PunisherMetal.jpg\", \"rb\")\n",
        "image = file.read()\n",
        "\n",
        "image_headline = widgets.Image(\n",
        "                    value=image,\n",
        "                    format='jpg',\n",
        "                    width='300'\n",
        "                )\n",
        "\n",
        "label_headline = widgets.Label(\n",
        "                    value='Punisher Metal',\n",
        "                    style={'description_width': 'initial'}\n",
        "                )\n",
        "\n",
        "vbox_headline = widgets.VBox([image_headline, label_headline])"
      ],
      "execution_count": null,
      "outputs": []
    },
    {
      "cell_type": "code",
      "metadata": {
        "id": "NSmgQ_fG8wr1"
      },
      "source": [
        "grand = widgets.ToggleButtons(\n",
        "            options=['A', 'B']\n",
        "        )"
      ],
      "execution_count": 16,
      "outputs": []
    },
    {
      "cell_type": "code",
      "metadata": {
        "id": "JXxngSLk9WtH"
      },
      "source": [
        "# name\n",
        "\n",
        "name = widgets.Text(placeholder='Your name here')"
      ],
      "execution_count": 17,
      "outputs": []
    },
    {
      "cell_type": "code",
      "metadata": {
        "id": "YqyrDzN39X_h"
      },
      "source": [
        "date = widgets.DatePicker(description='Pick a Date')"
      ],
      "execution_count": 18,
      "outputs": []
    },
    {
      "cell_type": "code",
      "metadata": {
        "id": "0pYl1CvO9Zif"
      },
      "source": [
        "# number of friends\n",
        "\n",
        "friends = widgets.IntSlider(\n",
        "            value=3, # default value\n",
        "            min=0, \n",
        "            max=10,\n",
        "            step=1,\n",
        "            style={'description_width': 'initial', 'handle_color': '#16a085'} \n",
        "        )"
      ],
      "execution_count": 19,
      "outputs": []
    },
    {
      "cell_type": "code",
      "metadata": {
        "id": "7mXMc72b9Z3b"
      },
      "source": [
        "\n",
        "# button send\n",
        "\n",
        "button_send = widgets.Button(\n",
        "                description='Send to me',\n",
        "                tooltip='Send',\n",
        "                style={'description_width': 'initial'}\n",
        "            )\n",
        "\n",
        "output = widgets.Output()\n",
        "\n",
        "def on_button_clicked(event):\n",
        "    with output:\n",
        "        clear_output()\n",
        "        print(\"Sent message: \")\n",
        "        print(f\"Greetings {grand.value}, {name.value}.\")\n",
        "        print(f\"Execution Time {logistic_regression_tiempo_prediccion}\")\n",
        "        print(f\"Also, this is really quickly, I'll bring along {friends.value} times to get learned\")\n",
        "        print(f\"Accuracy Score from Logistic Regression {accuracy_logistic_regression} times to get learned\")\n",
        "\n",
        "button_send.on_click(on_button_clicked)\n",
        "\n",
        "vbox_result = widgets.VBox([button_send, output])"
      ],
      "execution_count": 24,
      "outputs": []
    },
    {
      "cell_type": "code",
      "metadata": {
        "id": "CZnx32Yg-BBv"
      },
      "source": [
        "\n",
        "# stacked right hand side\n",
        "\n",
        "text_0 = widgets.HTML(value=\"<h1>GREETINGS</h1>\")\n",
        "text_1 = widgets.HTML(value=\"<h2>This is too easy to make</h2>\")\n",
        "text_2= widgets.HTML(value=\"<h2>Im proud to publish this here </h2>\")\n",
        "text_3= widgets.HTML(value=\"<h2>al last im learned it</h2>\")\n",
        "text_4= widgets.HTML(value=\"<h2>I hope make at time </h2>\")\n",
        "text_5= widgets.HTML(value=\"<h2>and now i will rest</h2>\")\n",
        "\n",
        "vbox_text = widgets.VBox([text_0, text_1, grand, name, text_2, date, text_3, text_4, friends, text_5, vbox_result])"
      ],
      "execution_count": 28,
      "outputs": []
    },
    {
      "cell_type": "code",
      "metadata": {
        "id": "PDUGW3ay-u47"
      },
      "source": [
        "page = widgets.HBox([vbox_headline, vbox_text])\n",
        "display(page)"
      ],
      "execution_count": null,
      "outputs": []
    },
    {
      "cell_type": "code",
      "metadata": {
        "id": "8pA8URLe_T8E"
      },
      "source": [
        "# !pip freeze > requirements.txt"
      ],
      "execution_count": null,
      "outputs": []
    }
  ]
}